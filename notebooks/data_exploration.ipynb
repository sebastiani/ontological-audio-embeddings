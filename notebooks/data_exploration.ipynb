{
 "cells": [
  {
   "cell_type": "code",
   "execution_count": 1,
   "metadata": {},
   "outputs": [],
   "source": [
    "%matplotlib inline\n",
    "import numpy as np\n",
    "import pandas as pd\n",
    "import torch\n",
    "import matplotlib.pyplot as plt\n",
    "import pickle"
   ]
  },
  {
   "cell_type": "code",
   "execution_count": 2,
   "metadata": {},
   "outputs": [],
   "source": [
    "DATA_FOLDER = '/home/akasha/projects/ontological_audio_embeddings/data/preprocessed/'\n",
    "df = pd.read_csv(DATA_FOLDER+'dataset.csv', header=None)\n",
    "df.columns = ['Path', 'label']"
   ]
  },
  {
   "cell_type": "code",
   "execution_count": 30,
   "metadata": {},
   "outputs": [
    {
     "data": {
      "text/html": [
       "<div>\n",
       "<style scoped>\n",
       "    .dataframe tbody tr th:only-of-type {\n",
       "        vertical-align: middle;\n",
       "    }\n",
       "\n",
       "    .dataframe tbody tr th {\n",
       "        vertical-align: top;\n",
       "    }\n",
       "\n",
       "    .dataframe thead th {\n",
       "        text-align: right;\n",
       "    }\n",
       "</style>\n",
       "<table border=\"1\" class=\"dataframe\">\n",
       "  <thead>\n",
       "    <tr style=\"text-align: right;\">\n",
       "      <th></th>\n",
       "      <th>Path</th>\n",
       "      <th>label</th>\n",
       "    </tr>\n",
       "  </thead>\n",
       "  <tbody>\n",
       "    <tr>\n",
       "      <th>0</th>\n",
       "      <td>/home/akasha/projects/ontological_audio_embedd...</td>\n",
       "      <td>/m/09x0r</td>\n",
       "    </tr>\n",
       "    <tr>\n",
       "      <th>1</th>\n",
       "      <td>/home/akasha/projects/ontological_audio_embedd...</td>\n",
       "      <td>/m/012xff</td>\n",
       "    </tr>\n",
       "    <tr>\n",
       "      <th>2</th>\n",
       "      <td>/home/akasha/projects/ontological_audio_embedd...</td>\n",
       "      <td>/m/03fwl</td>\n",
       "    </tr>\n",
       "    <tr>\n",
       "      <th>3</th>\n",
       "      <td>/home/akasha/projects/ontological_audio_embedd...</td>\n",
       "      <td>/t/dd00003</td>\n",
       "    </tr>\n",
       "    <tr>\n",
       "      <th>4</th>\n",
       "      <td>/home/akasha/projects/ontological_audio_embedd...</td>\n",
       "      <td>/m/032s66</td>\n",
       "    </tr>\n",
       "  </tbody>\n",
       "</table>\n",
       "</div>"
      ],
      "text/plain": [
       "                                                Path       label\n",
       "0  /home/akasha/projects/ontological_audio_embedd...    /m/09x0r\n",
       "1  /home/akasha/projects/ontological_audio_embedd...   /m/012xff\n",
       "2  /home/akasha/projects/ontological_audio_embedd...    /m/03fwl\n",
       "3  /home/akasha/projects/ontological_audio_embedd...  /t/dd00003\n",
       "4  /home/akasha/projects/ontological_audio_embedd...   /m/032s66"
      ]
     },
     "execution_count": 30,
     "metadata": {},
     "output_type": "execute_result"
    }
   ],
   "source": [
    "df.head()"
   ]
  },
  {
   "cell_type": "code",
   "execution_count": 31,
   "metadata": {},
   "outputs": [],
   "source": [
    "with open(DATA_FOLDER+'label_dict.pkl', 'rb') as f:\n",
    "    label_dict, num = pickle.load(f)"
   ]
  },
  {
   "cell_type": "code",
   "execution_count": 4,
   "metadata": {},
   "outputs": [],
   "source": [
    "counts = df['label'].value_counts()"
   ]
  },
  {
   "cell_type": "code",
   "execution_count": 5,
   "metadata": {},
   "outputs": [
    {
     "data": {
      "image/png": "[encoded data removed]",
      "text/plain": [
       "<Figure size 432x288 with 1 Axes>"
      ]
     },
     "metadata": {
      "needs_background": "dark"
     },
     "output_type": "display_data"
    }
   ],
   "source": [
    "x = counts.values\n",
    "plt.plot(x)\n",
    "plt.title('Frequency of labels in AudioSet')\n",
    "plt.ylabel('Frequency')\n",
    "plt.xlabel('Label')\n",
    "plt.show()"
   ]
  },
  {
   "cell_type": "markdown",
   "metadata": {},
   "source": [
    "## Filter classes that do not have more than 50 samples"
   ]
  },
  {
   "cell_type": "code",
   "execution_count": 6,
   "metadata": {},
   "outputs": [],
   "source": [
    "counts = counts[counts >= 50]\n",
    "\n",
    "filtered_df = df[df['label'].isin(counts.index.values)]"
   ]
  },
  {
   "cell_type": "code",
   "execution_count": 82,
   "metadata": {},
   "outputs": [
    {
     "name": "stdout",
     "output_type": "stream",
     "text": [
      "Number of samples:  13678\n"
     ]
    }
   ],
   "source": [
    "print(\"Number of samples: \", len(filtered_df))"
   ]
  },
  {
   "cell_type": "code",
   "execution_count": 86,
   "metadata": {},
   "outputs": [
    {
     "name": "stderr",
     "output_type": "stream",
     "text": [
      "/home/akasha/.build/anaconda3/lib/python3.7/site-packages/ipykernel_launcher.py:4: SettingWithCopyWarning: \n",
      "A value is trying to be set on a copy of a slice from a DataFrame.\n",
      "Try using .loc[row_indexer,col_indexer] = value instead\n",
      "\n",
      "See the caveats in the documentation: http://pandas.pydata.org/pandas-docs/stable/indexing.html#indexing-view-versus-copy\n",
      "  after removing the cwd from sys.path.\n"
     ]
    },
    {
     "data": {
      "text/html": [
       "<div>\n",
       "<style scoped>\n",
       "    .dataframe tbody tr th:only-of-type {\n",
       "        vertical-align: middle;\n",
       "    }\n",
       "\n",
       "    .dataframe tbody tr th {\n",
       "        vertical-align: top;\n",
       "    }\n",
       "\n",
       "    .dataframe thead th {\n",
       "        text-align: right;\n",
       "    }\n",
       "</style>\n",
       "<table border=\"1\" class=\"dataframe\">\n",
       "  <thead>\n",
       "    <tr style=\"text-align: right;\">\n",
       "      <th></th>\n",
       "      <th>Path</th>\n",
       "      <th>label</th>\n",
       "      <th>numeric_label</th>\n",
       "    </tr>\n",
       "  </thead>\n",
       "  <tbody>\n",
       "    <tr>\n",
       "      <th>0</th>\n",
       "      <td>/home/akasha/projects/ontological_audio_embedd...</td>\n",
       "      <td>/m/09x0r</td>\n",
       "      <td>104</td>\n",
       "    </tr>\n",
       "    <tr>\n",
       "      <th>1</th>\n",
       "      <td>/home/akasha/projects/ontological_audio_embedd...</td>\n",
       "      <td>/m/012xff</td>\n",
       "      <td>31</td>\n",
       "    </tr>\n",
       "    <tr>\n",
       "      <th>2</th>\n",
       "      <td>/home/akasha/projects/ontological_audio_embedd...</td>\n",
       "      <td>/m/03fwl</td>\n",
       "      <td>374</td>\n",
       "    </tr>\n",
       "    <tr>\n",
       "      <th>4</th>\n",
       "      <td>/home/akasha/projects/ontological_audio_embedd...</td>\n",
       "      <td>/m/032s66</td>\n",
       "      <td>354</td>\n",
       "    </tr>\n",
       "    <tr>\n",
       "      <th>5</th>\n",
       "      <td>/home/akasha/projects/ontological_audio_embedd...</td>\n",
       "      <td>/m/01y3hg</td>\n",
       "      <td>350</td>\n",
       "    </tr>\n",
       "  </tbody>\n",
       "</table>\n",
       "</div>"
      ],
      "text/plain": [
       "                                                Path      label  numeric_label\n",
       "0  /home/akasha/projects/ontological_audio_embedd...   /m/09x0r            104\n",
       "1  /home/akasha/projects/ontological_audio_embedd...  /m/012xff             31\n",
       "2  /home/akasha/projects/ontological_audio_embedd...   /m/03fwl            374\n",
       "4  /home/akasha/projects/ontological_audio_embedd...  /m/032s66            354\n",
       "5  /home/akasha/projects/ontological_audio_embedd...  /m/01y3hg            350"
      ]
     },
     "execution_count": 86,
     "metadata": {},
     "output_type": "execute_result"
    }
   ],
   "source": [
    "# Set numeric labels\n",
    "labels = filtered_df['label'].values\n",
    "numeric_label = [label_dict[label] for label in labels]\n",
    "\n",
    "filtered_df['numeric_label'] = numeric_label\n",
    "filtered_df.head()"
   ]
  },
  {
   "cell_type": "code",
   "execution_count": 87,
   "metadata": {},
   "outputs": [],
   "source": [
    "# write to csv without headers\n",
    "filtered_df.to_csv('filtered_dataset.csv', header=False)"
   ]
  },
  {
   "cell_type": "code",
   "execution_count": 96,
   "metadata": {},
   "outputs": [
    {
     "name": "stdout",
     "output_type": "stream",
     "text": [
      "median  160086.0\n"
     ]
    }
   ],
   "source": [
    "import librosa\n",
    "\n",
    "# calculate mean length\n",
    "lens = []\n",
    "for i, row in filtered_df.iterrows():\n",
    "    x = np.load(row['Path'])\n",
    "    lens.append(x.shape[0])\n",
    "lens = np.array(lens)\n",
    "median = np.median(lens)\n",
    "print(\"median \", median)"
   ]
  },
  {
   "cell_type": "code",
   "execution_count": 106,
   "metadata": {},
   "outputs": [
    {
     "name": "stdout",
     "output_type": "stream",
     "text": [
      "(160125,)\n",
      "(159754,)\n",
      "(160086,)\n"
     ]
    }
   ],
   "source": [
    "\n",
    "for i, row in filtered_df.iterrows():\n",
    "    x = np.load(row['Path'])\n",
    "    print(x.shape)\n",
    "    if x.shape[0] < median:\n",
    "        padw = int(median) -  x.shape[0]\n",
    "        x = np.pad(x, (0, padw), mode='constant')\n",
    "        break\n",
    "    else:\n",
    "        continue\n",
    "        #x = x[:int(median)]\n",
    "    \n",
    "print(x.shape)"
   ]
  },
  {
   "cell_type": "code",
   "execution_count": 107,
   "metadata": {},
   "outputs": [
    {
     "data": {
      "text/plain": [
       "array([ 3.4700288e-06, -1.0006487e-04, -1.4192825e-04, ...,\n",
       "        0.0000000e+00,  0.0000000e+00,  0.0000000e+00], dtype=float32)"
      ]
     },
     "execution_count": 107,
     "metadata": {},
     "output_type": "execute_result"
    }
   ],
   "source": [
    "x"
   ]
  },
  {
   "cell_type": "code",
   "execution_count": 109,
   "metadata": {},
   "outputs": [
    {
     "name": "stdout",
     "output_type": "stream",
     "text": [
      "['/home/akasha/projects/ontological_audio_embeddings/data/preprocessed/rawAudioSetv2/audio_--PJHxphWEs.npy'\n",
      " '/home/akasha/projects/ontological_audio_embeddings/data/preprocessed/rawAudioSetv2/audio_--ZhevVpy1s.npy'\n",
      " '/home/akasha/projects/ontological_audio_embeddings/data/preprocessed/rawAudioSetv2/audio_--aE2O5G5WE.npy'\n",
      " ...\n",
      " '/home/akasha/projects/ontological_audio_embeddings/data/preprocessed/rawAudioSetv2/audio_zz8TGV83nkE.npy'\n",
      " '/home/akasha/projects/ontological_audio_embeddings/data/preprocessed/rawAudioSetv2/audio_zzlK8KDqlr0.npy'\n",
      " '/home/akasha/projects/ontological_audio_embeddings/data/preprocessed/rawAudioSetv2/audio_zzya4dDVRLk.npy']\n"
     ]
    },
    {
     "name": "stderr",
     "output_type": "stream",
     "text": [
      "/home/akasha/.build/anaconda3/lib/python3.7/site-packages/ipykernel_launcher.py:8: SettingWithCopyWarning: \n",
      "A value is trying to be set on a copy of a slice from a DataFrame.\n",
      "Try using .loc[row_indexer,col_indexer] = value instead\n",
      "\n",
      "See the caveats in the documentation: http://pandas.pydata.org/pandas-docs/stable/indexing.html#indexing-view-versus-copy\n",
      "  \n"
     ]
    }
   ],
   "source": [
    "paths = []\n",
    "for path in filtered_df['Path'].values:\n",
    "    split_path = path.split('/')\n",
    "    split_path[-2] = split_path[-2]+'v2'\n",
    "    path = '/'.join(split_path)\n",
    "    paths.append(path)\n",
    "    \n",
    "filtered_df['Path'] = paths\n",
    "print(filtered_df['Path'].values)"
   ]
  },
  {
   "cell_type": "code",
   "execution_count": 111,
   "metadata": {},
   "outputs": [],
   "source": [
    "filtered_df.to_csv('filtered_dataset.csv', header=False)"
   ]
  },
  {
   "cell_type": "code",
   "execution_count": 8,
   "metadata": {},
   "outputs": [],
   "source": [
    "p = filtered_df.iloc[[0]]['Path'].values[0]"
   ]
  },
  {
   "cell_type": "code",
   "execution_count": 11,
   "metadata": {},
   "outputs": [
    {
     "name": "stdout",
     "output_type": "stream",
     "text": [
      "(1, 160125)\n",
      "0.021196\n"
     ]
    }
   ],
   "source": [
    "x = np.expand_dims(np.load(p), axis=0)\n",
    "var = np.var(x, axis=1)[0]\n",
    "print(x.shape)\n",
    "print(var)"
   ]
  },
  {
   "cell_type": "code",
   "execution_count": 12,
   "metadata": {},
   "outputs": [],
   "source": [
    "x = np.random.normal(0.0, 0.5, (1, 100))"
   ]
  },
  {
   "cell_type": "code",
   "execution_count": 13,
   "metadata": {},
   "outputs": [
    {
     "data": {
      "text/plain": [
       "(1, 100)"
      ]
     },
     "execution_count": 13,
     "metadata": {},
     "output_type": "execute_result"
    }
   ],
   "source": [
    "x.shape"
   ]
  },
  {
   "cell_type": "code",
   "execution_count": 15,
   "metadata": {},
   "outputs": [
    {
     "name": "stdout",
     "output_type": "stream",
     "text": [
      "0.4\n"
     ]
    }
   ],
   "source": [
    "t = 0.4\n",
    "t = 0.5 if t >=0.5 else t\n",
    "print(t)"
   ]
  },
  {
   "cell_type": "code",
   "execution_count": null,
   "metadata": {},
   "outputs": [],
   "source": []
  }
 ],
 "metadata": {
  "kernelspec": {
   "display_name": "Python 3",
   "language": "python",
   "name": "python3"
  },
  "language_info": {
   "codemirror_mode": {
    "name": "ipython",
    "version": 3
   },
   "file_extension": ".py",
   "mimetype": "text/x-python",
   "name": "python",
   "nbconvert_exporter": "python",
   "pygments_lexer": "ipython3",
   "version": "3.7.0"
  }
 },
 "nbformat": 4,
 "nbformat_minor": 2
}
